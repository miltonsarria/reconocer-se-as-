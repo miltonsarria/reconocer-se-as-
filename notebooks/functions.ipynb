{
 "cells": [
  {
   "cell_type": "markdown",
   "metadata": {},
   "source": [
    "# Importaciones"
   ]
  },
  {
   "cell_type": "code",
   "execution_count": 1,
   "metadata": {},
   "outputs": [],
   "source": [
    "import os\n",
    "import time\n",
    "\n",
    "import cv2\n",
    "import numpy as np\n",
    "import mediapipe as mp\n",
    "from matplotlib import pyplot as plt"
   ]
  },
  {
   "cell_type": "markdown",
   "metadata": {},
   "source": [
    "# Funciones"
   ]
  },
  {
   "cell_type": "code",
   "execution_count": 2,
   "metadata": {},
   "outputs": [],
   "source": [
    "def get_mp_resources():\n",
    "    return mp.solutions.holistic, mp.solutions.drawing_utils"
   ]
  },
  {
   "cell_type": "code",
   "execution_count": 4,
   "metadata": {},
   "outputs": [],
   "source": [
    "def mediapipe_detection(image, model):\n",
    "    image = cv2.cvtColor(image, cv2.COLOR_BGR2RGB) # Conversión de color de RGB a RGB\n",
    "    image.flags.writeable = False                  # Se bloquea la escritura de la imagen\n",
    "    results = model.process(image)                 # Se realiza la predicción\n",
    "    image.flags.writeable = True                   # Se habilita la escritura de la imagen\n",
    "    image = cv2.cvtColor(image, cv2.COLOR_RGB2BGR) # Conversión de color RGB a RGB\n",
    "    return image, results"
   ]
  },
  {
   "cell_type": "code",
   "execution_count": 3,
   "metadata": {},
   "outputs": [],
   "source": [
    "def draw_styled_landmarks(image, results, mp_holistic, mp_drawing):\n",
    "    mp_drawing.draw_landmarks(image, results.face_landmarks, mp_holistic.FACEMESH_CONTOURS,\n",
    "                                mp_drawing.DrawingSpec(color=(80,110,10), thickness=1, circle_radius=1),\n",
    "                                mp_drawing.DrawingSpec(color=(80,256,121), thickness=1, circle_radius=1)\n",
    "                            )\n",
    "    mp_drawing.draw_landmarks(image, results.pose_landmarks, mp_holistic.POSE_CONNECTIONS,\n",
    "                                mp_drawing.DrawingSpec(color=(80,22,10), thickness=2, circle_radius=4),\n",
    "                                mp_drawing.DrawingSpec(color=(80,44,121), thickness=2, circle_radius=2)\n",
    "                            )\n",
    "    mp_drawing.draw_landmarks(image, results.left_hand_landmarks, mp_holistic.HAND_CONNECTIONS,\n",
    "                                mp_drawing.DrawingSpec(color=(121,22,76), thickness=2, circle_radius=4),\n",
    "                                mp_drawing.DrawingSpec(color=(121,44,250), thickness=2, circle_radius=2)\n",
    "                            )\n",
    "    mp_drawing.draw_landmarks(image, results.right_hand_landmarks, mp_holistic.HAND_CONNECTIONS,\n",
    "                                mp_drawing.DrawingSpec(color=(245,117,66), thickness=2, circle_radius=4),\n",
    "                                mp_drawing.DrawingSpec(color=(245,66,230), thickness=2, circle_radius=2)\n",
    "                            )"
   ]
  },
  {
   "cell_type": "code",
   "execution_count": 6,
   "metadata": {},
   "outputs": [],
   "source": [
    "def start_video_capture(mp_holistic, mp_drawing):\n",
    "    captura = cv2.VideoCapture(0)\n",
    "\n",
    "    # Acceso/configuración al modulo de mediapipe\n",
    "    with mp_holistic.Holistic(min_detection_confidence=0.5, min_tracking_confidence=0.5) as holistic:\n",
    "        while captura.isOpened():\n",
    "            # Lectura via camara\n",
    "            _, frame = captura.read()\n",
    "\n",
    "            # Realizar detecciones\n",
    "            image, results = mediapipe_detection(frame, holistic)\n",
    "\n",
    "            # Dibujar landmarks\n",
    "            draw_styled_landmarks(image, results, mp_holistic, mp_drawing)\n",
    "\n",
    "            image = cv2.flip(image, 1)\n",
    "\n",
    "            # Mostrar en pantalla\n",
    "            cv2.imshow('OpenCV', image)\n",
    "\n",
    "            # Salida\n",
    "            if cv2.waitKey(10) & 0xFF == ord('q'):\n",
    "                break\n",
    "        captura.release()\n",
    "        cv2.destroyAllWindows()\n",
    "        return results"
   ]
  },
  {
   "cell_type": "code",
   "execution_count": 7,
   "metadata": {},
   "outputs": [],
   "source": [
    "def extract_keypoints(results):\n",
    "    landmarks_data = {\n",
    "        \"left_hand\": np.array(\n",
    "            [\n",
    "                [res.x, res.y, res.z]\n",
    "                for res in results.left_hand_landmarks.landmark\n",
    "            ]).flatten()\n",
    "            if results.left_hand_landmarks\n",
    "            else np.zeros(21*3),\n",
    "\n",
    "        \"right_hand\": np.array(\n",
    "            [\n",
    "                [res.x, res.y, res.z]\n",
    "                for res in results.right_hand_landmarks.landmark\n",
    "            ]).flatten()\n",
    "            if results.right_hand_landmarks\n",
    "            else np.zeros(21*3),\n",
    "\n",
    "        \"face\": np.array(\n",
    "            [\n",
    "                [res.x, res.y, res.z]\n",
    "                for res in results.face_landmarks.landmark\n",
    "            ]).flatten()\n",
    "            if results.face_landmarks\n",
    "            else np.zeros(468*3),\n",
    "\n",
    "        \"pose\": np.array(\n",
    "            [\n",
    "                [res.x, res.y, res.z, res.visibility]\n",
    "                for res in results.pose_landmarks.landmark\n",
    "            ]).flatten()\n",
    "            if results.pose_landmarks\n",
    "            else np.zeros(33*4)\n",
    "    }\n",
    "    return landmarks_data, np.concatenate([\n",
    "        landmarks_data[\"pose\"],\n",
    "        landmarks_data[\"face\"],\n",
    "        landmarks_data[\"left_hand\"],\n",
    "        landmarks_data[\"right_hand\"],\n",
    "    ])"
   ]
  },
  {
   "cell_type": "code",
   "execution_count": null,
   "metadata": {},
   "outputs": [],
   "source": []
  }
 ],
 "metadata": {
  "kernelspec": {
   "display_name": "Python 3 (ipykernel)",
   "language": "python",
   "name": "python3"
  },
  "language_info": {
   "codemirror_mode": {
    "name": "ipython",
    "version": 3
   },
   "file_extension": ".py",
   "mimetype": "text/x-python",
   "name": "python",
   "nbconvert_exporter": "python",
   "pygments_lexer": "ipython3",
   "version": "3.8.16"
  },
  "vscode": {
   "interpreter": {
    "hash": "0ef263637fcb11b044004cae920088f8332c7b071379bb74eca09b0fa864d400"
   }
  }
 },
 "nbformat": 4,
 "nbformat_minor": 2
}
