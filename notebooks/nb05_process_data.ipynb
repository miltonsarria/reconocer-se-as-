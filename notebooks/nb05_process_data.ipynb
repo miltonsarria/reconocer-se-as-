{
 "cells": [
  {
   "cell_type": "markdown",
   "metadata": {},
   "source": [
    "# Importaciones"
   ]
  },
  {
   "cell_type": "code",
   "execution_count": 1,
   "metadata": {},
   "outputs": [],
   "source": [
    "import os\n",
    "import time\n",
    "\n",
    "import cv2\n",
    "import numpy as np\n",
    "import mediapipe as mp\n",
    "from matplotlib import pyplot as plt\n",
    "\n",
    "from sklearn.model_selection import train_test_split\n",
    "from tensorflow.keras.utils import to_categorical"
   ]
  },
  {
   "cell_type": "code",
   "execution_count": 2,
   "metadata": {},
   "outputs": [
    {
     "name": "stdout",
     "output_type": "stream",
     "text": [
      "No se pudo crear el directorio hola/0\n",
      "No se pudo crear el directorio hola/1\n",
      "No se pudo crear el directorio hola/2\n",
      "No se pudo crear el directorio hola/3\n",
      "No se pudo crear el directorio hola/4\n",
      "No se pudo crear el directorio hola/5\n",
      "No se pudo crear el directorio hola/6\n",
      "No se pudo crear el directorio hola/7\n",
      "No se pudo crear el directorio hola/8\n",
      "No se pudo crear el directorio hola/9\n",
      "No se pudo crear el directorio hola/10\n",
      "No se pudo crear el directorio hola/11\n",
      "No se pudo crear el directorio hola/12\n",
      "No se pudo crear el directorio hola/13\n",
      "No se pudo crear el directorio hola/14\n",
      "No se pudo crear el directorio hola/15\n",
      "No se pudo crear el directorio hola/16\n",
      "No se pudo crear el directorio hola/17\n",
      "No se pudo crear el directorio hola/18\n",
      "No se pudo crear el directorio hola/19\n",
      "No se pudo crear el directorio hola/20\n",
      "No se pudo crear el directorio hola/21\n",
      "No se pudo crear el directorio hola/22\n",
      "No se pudo crear el directorio hola/23\n",
      "No se pudo crear el directorio hola/24\n",
      "No se pudo crear el directorio hola/25\n",
      "No se pudo crear el directorio hola/26\n",
      "No se pudo crear el directorio hola/27\n",
      "No se pudo crear el directorio hola/28\n",
      "No se pudo crear el directorio hola/29\n",
      "No se pudo crear el directorio hola/30\n",
      "No se pudo crear el directorio hola/31\n",
      "No se pudo crear el directorio hola/32\n",
      "No se pudo crear el directorio hola/33\n",
      "No se pudo crear el directorio hola/34\n",
      "No se pudo crear el directorio hola/35\n",
      "No se pudo crear el directorio hola/36\n",
      "No se pudo crear el directorio hola/37\n",
      "No se pudo crear el directorio hola/38\n",
      "No se pudo crear el directorio hola/39\n",
      "No se pudo crear el directorio hola/40\n",
      "No se pudo crear el directorio hola/41\n",
      "No se pudo crear el directorio hola/42\n",
      "No se pudo crear el directorio hola/43\n",
      "No se pudo crear el directorio hola/44\n",
      "No se pudo crear el directorio hola/45\n",
      "No se pudo crear el directorio hola/46\n",
      "No se pudo crear el directorio hola/47\n",
      "No se pudo crear el directorio hola/48\n",
      "No se pudo crear el directorio hola/49\n",
      "No se pudo crear el directorio gracias/0\n",
      "No se pudo crear el directorio gracias/1\n",
      "No se pudo crear el directorio gracias/2\n",
      "No se pudo crear el directorio gracias/3\n",
      "No se pudo crear el directorio gracias/4\n",
      "No se pudo crear el directorio gracias/5\n",
      "No se pudo crear el directorio gracias/6\n",
      "No se pudo crear el directorio gracias/7\n",
      "No se pudo crear el directorio gracias/8\n",
      "No se pudo crear el directorio gracias/9\n",
      "No se pudo crear el directorio gracias/10\n",
      "No se pudo crear el directorio gracias/11\n",
      "No se pudo crear el directorio gracias/12\n",
      "No se pudo crear el directorio gracias/13\n",
      "No se pudo crear el directorio gracias/14\n",
      "No se pudo crear el directorio gracias/15\n",
      "No se pudo crear el directorio gracias/16\n",
      "No se pudo crear el directorio gracias/17\n",
      "No se pudo crear el directorio gracias/18\n",
      "No se pudo crear el directorio gracias/19\n",
      "No se pudo crear el directorio gracias/20\n",
      "No se pudo crear el directorio gracias/21\n",
      "No se pudo crear el directorio gracias/22\n",
      "No se pudo crear el directorio gracias/23\n",
      "No se pudo crear el directorio gracias/24\n",
      "No se pudo crear el directorio gracias/25\n",
      "No se pudo crear el directorio gracias/26\n",
      "No se pudo crear el directorio gracias/27\n",
      "No se pudo crear el directorio gracias/28\n",
      "No se pudo crear el directorio gracias/29\n",
      "No se pudo crear el directorio gracias/30\n",
      "No se pudo crear el directorio gracias/31\n",
      "No se pudo crear el directorio gracias/32\n",
      "No se pudo crear el directorio gracias/33\n",
      "No se pudo crear el directorio gracias/34\n",
      "No se pudo crear el directorio gracias/35\n",
      "No se pudo crear el directorio gracias/36\n",
      "No se pudo crear el directorio gracias/37\n",
      "No se pudo crear el directorio gracias/38\n",
      "No se pudo crear el directorio gracias/39\n",
      "No se pudo crear el directorio gracias/40\n",
      "No se pudo crear el directorio gracias/41\n",
      "No se pudo crear el directorio gracias/42\n",
      "No se pudo crear el directorio gracias/43\n",
      "No se pudo crear el directorio gracias/44\n",
      "No se pudo crear el directorio gracias/45\n",
      "No se pudo crear el directorio gracias/46\n",
      "No se pudo crear el directorio gracias/47\n",
      "No se pudo crear el directorio gracias/48\n",
      "No se pudo crear el directorio gracias/49\n",
      "No se pudo crear el directorio iloveyou/0\n",
      "No se pudo crear el directorio iloveyou/1\n",
      "No se pudo crear el directorio iloveyou/2\n",
      "No se pudo crear el directorio iloveyou/3\n",
      "No se pudo crear el directorio iloveyou/4\n",
      "No se pudo crear el directorio iloveyou/5\n",
      "No se pudo crear el directorio iloveyou/6\n",
      "No se pudo crear el directorio iloveyou/7\n",
      "No se pudo crear el directorio iloveyou/8\n",
      "No se pudo crear el directorio iloveyou/9\n",
      "No se pudo crear el directorio iloveyou/10\n",
      "No se pudo crear el directorio iloveyou/11\n",
      "No se pudo crear el directorio iloveyou/12\n",
      "No se pudo crear el directorio iloveyou/13\n",
      "No se pudo crear el directorio iloveyou/14\n",
      "No se pudo crear el directorio iloveyou/15\n",
      "No se pudo crear el directorio iloveyou/16\n",
      "No se pudo crear el directorio iloveyou/17\n",
      "No se pudo crear el directorio iloveyou/18\n",
      "No se pudo crear el directorio iloveyou/19\n",
      "No se pudo crear el directorio iloveyou/20\n",
      "No se pudo crear el directorio iloveyou/21\n",
      "No se pudo crear el directorio iloveyou/22\n",
      "No se pudo crear el directorio iloveyou/23\n",
      "No se pudo crear el directorio iloveyou/24\n",
      "No se pudo crear el directorio iloveyou/25\n",
      "No se pudo crear el directorio iloveyou/26\n",
      "No se pudo crear el directorio iloveyou/27\n",
      "No se pudo crear el directorio iloveyou/28\n",
      "No se pudo crear el directorio iloveyou/29\n",
      "No se pudo crear el directorio iloveyou/30\n",
      "No se pudo crear el directorio iloveyou/31\n",
      "No se pudo crear el directorio iloveyou/32\n",
      "No se pudo crear el directorio iloveyou/33\n",
      "No se pudo crear el directorio iloveyou/34\n",
      "No se pudo crear el directorio iloveyou/35\n",
      "No se pudo crear el directorio iloveyou/36\n",
      "No se pudo crear el directorio iloveyou/37\n",
      "No se pudo crear el directorio iloveyou/38\n",
      "No se pudo crear el directorio iloveyou/39\n",
      "No se pudo crear el directorio iloveyou/40\n",
      "No se pudo crear el directorio iloveyou/41\n",
      "No se pudo crear el directorio iloveyou/42\n",
      "No se pudo crear el directorio iloveyou/43\n",
      "No se pudo crear el directorio iloveyou/44\n",
      "No se pudo crear el directorio iloveyou/45\n",
      "No se pudo crear el directorio iloveyou/46\n",
      "No se pudo crear el directorio iloveyou/47\n",
      "No se pudo crear el directorio iloveyou/48\n",
      "No se pudo crear el directorio iloveyou/49\n"
     ]
    }
   ],
   "source": [
    "from ipynb.fs.full.functions import get_mp_resources\n",
    "from ipynb.fs.full.functions import extract_keypoints\n",
    "from ipynb.fs.full.functions import mediapipe_detection\n",
    "from ipynb.fs.full.functions import draw_styled_landmarks\n",
    "from ipynb.fs.full.nb03_prepare_collection import N_SEQ, SEQ_LEN\n",
    "from ipynb.fs.full.nb03_prepare_collection import DATA_PATH, ABC, EXPRESSIONS"
   ]
  },
  {
   "cell_type": "markdown",
   "metadata": {},
   "source": [
    "# Procesar datos, crear etiquetas y caracteristicas"
   ]
  },
  {
   "cell_type": "code",
   "execution_count": 3,
   "metadata": {},
   "outputs": [],
   "source": [
    "label_map = { label:num  for num, label in enumerate(EXPRESSIONS) }"
   ]
  },
  {
   "cell_type": "code",
   "execution_count": 4,
   "metadata": {},
   "outputs": [
    {
     "data": {
      "text/plain": [
       "{'hola': 0, 'gracias': 1, 'iloveyou': 2}"
      ]
     },
     "execution_count": 4,
     "metadata": {},
     "output_type": "execute_result"
    }
   ],
   "source": [
    "label_map"
   ]
  },
  {
   "cell_type": "code",
   "execution_count": 5,
   "metadata": {},
   "outputs": [],
   "source": [
    "N_SEQ=50\n",
    "sequences, labels = [], []\n",
    "for expression in EXPRESSIONS:\n",
    "    for sequence in range(N_SEQ):\n",
    "        window = [\n",
    "            np.load(DATA_PATH.joinpath(f'{expression}/{sequence}/{n_frame}.npy'))\n",
    "            for n_frame in range(SEQ_LEN)\n",
    "        ]\n",
    "        sequences.append(window)\n",
    "        labels.append(label_map[expression])"
   ]
  },
  {
   "cell_type": "code",
   "execution_count": 6,
   "metadata": {},
   "outputs": [
    {
     "data": {
      "text/plain": [
       "(150, 30, 1662)"
      ]
     },
     "execution_count": 6,
     "metadata": {},
     "output_type": "execute_result"
    }
   ],
   "source": [
    "X = np.array(sequences)\n",
    "X.shape"
   ]
  },
  {
   "cell_type": "code",
   "execution_count": 7,
   "metadata": {},
   "outputs": [
    {
     "data": {
      "text/plain": [
       "50"
      ]
     },
     "execution_count": 7,
     "metadata": {},
     "output_type": "execute_result"
    }
   ],
   "source": [
    "N_SEQ"
   ]
  },
  {
   "cell_type": "code",
   "execution_count": 9,
   "metadata": {},
   "outputs": [],
   "source": [
    "y = to_categorical(labels).astype(int)"
   ]
  },
  {
   "cell_type": "code",
   "execution_count": 10,
   "metadata": {},
   "outputs": [
    {
     "data": {
      "text/plain": [
       "array([[1, 0, 0],\n",
       "       [1, 0, 0],\n",
       "       [1, 0, 0],\n",
       "       [1, 0, 0],\n",
       "       [1, 0, 0]])"
      ]
     },
     "execution_count": 10,
     "metadata": {},
     "output_type": "execute_result"
    }
   ],
   "source": [
    "y[:5]"
   ]
  },
  {
   "cell_type": "markdown",
   "metadata": {},
   "source": [
    "# Entrenamiento"
   ]
  },
  {
   "cell_type": "code",
   "execution_count": 11,
   "metadata": {},
   "outputs": [],
   "source": [
    "X_train, X_test, y_train, y_test = train_test_split(X, y, test_size = 0.20)"
   ]
  },
  {
   "cell_type": "markdown",
   "metadata": {},
   "source": [
    "# Exportación de datos"
   ]
  },
  {
   "cell_type": "code",
   "execution_count": 12,
   "metadata": {},
   "outputs": [],
   "source": [
    "TARGET_PATH = DATA_PATH.parent.joinpath(\"processed\")\n",
    "np.save(TARGET_PATH.joinpath(f'X_train'), X_train)\n",
    "np.save(TARGET_PATH.joinpath(f'X_test'), X_test)\n",
    "np.save(TARGET_PATH.joinpath(f'y_train'), y_train)\n",
    "np.save(TARGET_PATH.joinpath(f'y_test'), y_test)"
   ]
  },
  {
   "cell_type": "code",
   "execution_count": 22,
   "metadata": {},
   "outputs": [
    {
     "data": {
      "text/plain": [
       "50"
      ]
     },
     "execution_count": 22,
     "metadata": {},
     "output_type": "execute_result"
    }
   ],
   "source": [
    "N_SEQ"
   ]
  }
 ],
 "metadata": {
  "kernelspec": {
   "display_name": "Python 3 (ipykernel)",
   "language": "python",
   "name": "python3"
  },
  "language_info": {
   "codemirror_mode": {
    "name": "ipython",
    "version": 3
   },
   "file_extension": ".py",
   "mimetype": "text/x-python",
   "name": "python",
   "nbconvert_exporter": "python",
   "pygments_lexer": "ipython3",
   "version": "3.9.12"
  },
  "vscode": {
   "interpreter": {
    "hash": "0ef263637fcb11b044004cae920088f8332c7b071379bb74eca09b0fa864d400"
   }
  }
 },
 "nbformat": 4,
 "nbformat_minor": 2
}
