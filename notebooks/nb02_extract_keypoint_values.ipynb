{
 "cells": [
  {
   "cell_type": "markdown",
   "metadata": {},
   "source": [
    "# Importaciones"
   ]
  },
  {
   "cell_type": "code",
   "execution_count": 1,
   "metadata": {},
   "outputs": [],
   "source": [
    "import os\n",
    "import time\n",
    "\n",
    "import cv2\n",
    "import numpy as np\n",
    "import mediapipe as mp\n",
    "from matplotlib import pyplot as plt"
   ]
  },
  {
   "cell_type": "code",
   "execution_count": 3,
   "metadata": {},
   "outputs": [
    {
     "name": "stdout",
     "output_type": "stream",
     "text": [
      "Collecting ipynb\n",
      "  Downloading ipynb-0.5.1-py3-none-any.whl (6.9 kB)\n",
      "Installing collected packages: ipynb\n",
      "Successfully installed ipynb-0.5.1\n"
     ]
    }
   ],
   "source": [
    "!pip install ipynb"
   ]
  },
  {
   "cell_type": "code",
   "execution_count": 2,
   "metadata": {},
   "outputs": [],
   "source": [
    "from ipynb.fs.full.functions import get_mp_resources\n",
    "from ipynb.fs.full.functions import mediapipe_detection\n",
    "from ipynb.fs.full.functions import draw_styled_landmarks\n",
    "from ipynb.fs.full.functions import start_video_capture"
   ]
  },
  {
   "cell_type": "markdown",
   "metadata": {},
   "source": [
    "# Extraer puntos claves"
   ]
  },
  {
   "cell_type": "code",
   "execution_count": 3,
   "metadata": {},
   "outputs": [],
   "source": [
    "mp_holistic, mp_drawing = get_mp_resources()"
   ]
  },
  {
   "cell_type": "code",
   "execution_count": 4,
   "metadata": {},
   "outputs": [],
   "source": [
    "results = start_video_capture(mp_holistic, mp_drawing)"
   ]
  },
  {
   "cell_type": "code",
   "execution_count": 5,
   "metadata": {},
   "outputs": [],
   "source": [
    "results.left_hand_landmarks"
   ]
  },
  {
   "cell_type": "code",
   "execution_count": 6,
   "metadata": {},
   "outputs": [
    {
     "data": {
      "text/plain": [
       "{'left_hand': array([0., 0., 0., 0., 0., 0., 0., 0., 0., 0., 0., 0., 0., 0., 0., 0., 0.,\n",
       "        0., 0., 0., 0., 0., 0., 0., 0., 0., 0., 0., 0., 0., 0., 0., 0., 0.,\n",
       "        0., 0., 0., 0., 0., 0., 0., 0., 0., 0., 0., 0., 0., 0., 0., 0., 0.,\n",
       "        0., 0., 0., 0., 0., 0., 0., 0., 0., 0., 0., 0.]),\n",
       " 'right_hand': array([0., 0., 0., 0., 0., 0., 0., 0., 0., 0., 0., 0., 0., 0., 0., 0., 0.,\n",
       "        0., 0., 0., 0., 0., 0., 0., 0., 0., 0., 0., 0., 0., 0., 0., 0., 0.,\n",
       "        0., 0., 0., 0., 0., 0., 0., 0., 0., 0., 0., 0., 0., 0., 0., 0., 0.,\n",
       "        0., 0., 0., 0., 0., 0., 0., 0., 0., 0., 0., 0.]),\n",
       " 'face': array([ 0.53615856,  0.70190012, -0.04311849, ...,  0.61138403,\n",
       "         0.5333401 ,  0.0439192 ]),\n",
       " 'pose': array([ 5.13943672e-01,  6.11142874e-01, -1.87319922e+00,  9.93822396e-01,\n",
       "         5.47930300e-01,  5.29041052e-01, -1.78143001e+00,  9.92411315e-01,\n",
       "         5.66424251e-01,  5.30321658e-01, -1.78188396e+00,  9.92314637e-01,\n",
       "         5.85315406e-01,  5.33301294e-01, -1.78206038e+00,  9.91489470e-01,\n",
       "         4.76214349e-01,  5.32060325e-01, -1.80969846e+00,  9.93750095e-01,\n",
       "         4.51797336e-01,  5.34607768e-01, -1.80942559e+00,  9.94411886e-01,\n",
       "         4.28547531e-01,  5.39436698e-01, -1.81035423e+00,  9.95059848e-01,\n",
       "         6.24293923e-01,  5.87844193e-01, -1.14692616e+00,  9.90701556e-01,\n",
       "         3.94950211e-01,  5.91563463e-01, -1.26018298e+00,  9.95872736e-01,\n",
       "         5.57781935e-01,  7.02755511e-01, -1.62627530e+00,  9.92853880e-01,\n",
       "         4.65763181e-01,  7.07815766e-01, -1.66162336e+00,  9.95567203e-01,\n",
       "         7.79443026e-01,  1.01159739e+00, -6.18414462e-01,  8.75234008e-01,\n",
       "         1.86388880e-01,  1.00495374e+00, -8.38728786e-01,  9.30012107e-01,\n",
       "         8.57968926e-01,  1.42486215e+00, -2.20260739e-01,  8.40573534e-02,\n",
       "         9.65957716e-02,  1.45963407e+00, -6.65253639e-01,  1.17533572e-01,\n",
       "         7.99527645e-01,  1.64362836e+00, -2.65692592e-01,  1.43051460e-01,\n",
       "         2.46515751e-01,  1.60299087e+00, -9.55815673e-01,  3.63665968e-02,\n",
       "         8.02196622e-01,  1.73109627e+00, -3.04716945e-01,  1.61525682e-01,\n",
       "         2.85038769e-01,  1.67314100e+00, -1.07837939e+00,  4.47118953e-02,\n",
       "         7.86395192e-01,  1.69281995e+00, -3.91795635e-01,  1.86982125e-01,\n",
       "         3.07193995e-01,  1.61125720e+00, -1.11730552e+00,  6.34394661e-02,\n",
       "         7.73989201e-01,  1.65912998e+00, -3.12580198e-01,  1.62377283e-01,\n",
       "         3.01335067e-01,  1.58401263e+00, -9.83896732e-01,  5.65598235e-02,\n",
       "         6.53506398e-01,  1.98437834e+00, -8.84020850e-02,  1.48784998e-03,\n",
       "         2.78816521e-01,  1.99570429e+00,  9.43134278e-02,  1.33025821e-03,\n",
       "         6.31456077e-01,  2.78502202e+00, -1.68855160e-01,  5.40215056e-03,\n",
       "         3.02260786e-01,  2.73216534e+00, -2.16544837e-01,  2.28797062e-03,\n",
       "         6.26651764e-01,  3.50645709e+00,  6.15562856e-01,  2.40642155e-04,\n",
       "         2.92047203e-01,  3.46224451e+00,  3.67445350e-01,  1.04815481e-04,\n",
       "         6.27011120e-01,  3.61829448e+00,  6.35910451e-01,  1.28840082e-04,\n",
       "         2.86961675e-01,  3.57999206e+00,  3.97910476e-01,  1.63242890e-04,\n",
       "         5.76060474e-01,  3.73648238e+00, -2.66422033e-01,  4.17922449e-04,\n",
       "         3.35524023e-01,  3.67283082e+00, -5.39037168e-01,  9.03245993e-04])}"
      ]
     },
     "execution_count": 6,
     "metadata": {},
     "output_type": "execute_result"
    }
   ],
   "source": [
    "landmarks_data = {\n",
    "    \"left_hand\": np.array(\n",
    "        [\n",
    "            [res.x, res.y, res.z]\n",
    "            for res in results.left_hand_landmarks.landmark\n",
    "        ]).flatten()\n",
    "        if results.left_hand_landmarks\n",
    "        else np.zeros(21*3),\n",
    "\n",
    "    \"right_hand\": np.array(\n",
    "        [\n",
    "            [res.x, res.y, res.z]\n",
    "            for res in results.right_hand_landmarks.landmark\n",
    "        ]).flatten()\n",
    "        if results.right_hand_landmarks\n",
    "        else np.zeros(21*3),\n",
    "\n",
    "    \"face\": np.array(\n",
    "        [\n",
    "            [res.x, res.y, res.z]\n",
    "            for res in results.face_landmarks.landmark\n",
    "        ]).flatten()\n",
    "        if results.face_landmarks\n",
    "        else np.zeros(468*3),\n",
    "\n",
    "    \"pose\": np.array(\n",
    "        [\n",
    "            [res.x, res.y, res.z, res.visibility]\n",
    "            for res in results.pose_landmarks.landmark\n",
    "        ]).flatten()\n",
    "        if results.pose_landmarks\n",
    "        else np.zeros(33*4)\n",
    "}\n",
    "landmarks_data"
   ]
  },
  {
   "cell_type": "code",
   "execution_count": 7,
   "metadata": {},
   "outputs": [],
   "source": [
    "values = np.concatenate([\n",
    "    landmarks_data[\"pose\"],\n",
    "    landmarks_data[\"face\"],\n",
    "    landmarks_data[\"left_hand\"],\n",
    "    landmarks_data[\"right_hand\"],\n",
    "])"
   ]
  },
  {
   "cell_type": "code",
   "execution_count": 8,
   "metadata": {},
   "outputs": [
    {
     "data": {
      "text/plain": [
       "(1662,)"
      ]
     },
     "execution_count": 8,
     "metadata": {},
     "output_type": "execute_result"
    }
   ],
   "source": [
    "values.shape"
   ]
  },
  {
   "cell_type": "code",
   "execution_count": 35,
   "metadata": {},
   "outputs": [
    {
     "data": {
      "text/plain": [
       "array([ 0.3460874 ,  0.54332447, -0.93187553,  0.99998748,  0.37322509,\n",
       "        0.44570264, -0.86297452,  0.99997109,  0.39862913,  0.43676513])"
      ]
     },
     "execution_count": 35,
     "metadata": {},
     "output_type": "execute_result"
    }
   ],
   "source": [
    "values[:10]"
   ]
  },
  {
   "cell_type": "code",
   "execution_count": null,
   "metadata": {},
   "outputs": [],
   "source": []
  }
 ],
 "metadata": {
  "kernelspec": {
   "display_name": "Python 3 (ipykernel)",
   "language": "python",
   "name": "python3"
  },
  "language_info": {
   "codemirror_mode": {
    "name": "ipython",
    "version": 3
   },
   "file_extension": ".py",
   "mimetype": "text/x-python",
   "name": "python",
   "nbconvert_exporter": "python",
   "pygments_lexer": "ipython3",
   "version": "3.8.16"
  },
  "vscode": {
   "interpreter": {
    "hash": "0ef263637fcb11b044004cae920088f8332c7b071379bb74eca09b0fa864d400"
   }
  }
 },
 "nbformat": 4,
 "nbformat_minor": 2
}
