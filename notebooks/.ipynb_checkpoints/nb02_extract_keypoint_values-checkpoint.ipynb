{
 "cells": [
  {
   "cell_type": "markdown",
   "metadata": {},
   "source": [
    "# Importaciones"
   ]
  },
  {
   "cell_type": "code",
   "execution_count": 1,
   "metadata": {},
   "outputs": [],
   "source": [
    "import os\n",
    "import time\n",
    "\n",
    "import cv2\n",
    "import numpy as np\n",
    "import mediapipe as mp\n",
    "from matplotlib import pyplot as plt"
   ]
  },
  {
   "cell_type": "code",
   "execution_count": 3,
   "metadata": {},
   "outputs": [
    {
     "name": "stdout",
     "output_type": "stream",
     "text": [
      "Collecting ipynb\n",
      "  Downloading ipynb-0.5.1-py3-none-any.whl (6.9 kB)\n",
      "Installing collected packages: ipynb\n",
      "Successfully installed ipynb-0.5.1\n"
     ]
    }
   ],
   "source": [
    "!pip install ipynb"
   ]
  },
  {
   "cell_type": "code",
   "execution_count": 4,
   "metadata": {},
   "outputs": [],
   "source": [
    "from ipynb.fs.full.functions import get_mp_resources\n",
    "from ipynb.fs.full.functions import mediapipe_detection\n",
    "from ipynb.fs.full.functions import draw_styled_landmarks\n",
    "from ipynb.fs.full.functions import start_video_capture"
   ]
  },
  {
   "cell_type": "markdown",
   "metadata": {},
   "source": [
    "# Extraer puntos claves"
   ]
  },
  {
   "cell_type": "code",
   "execution_count": 5,
   "metadata": {},
   "outputs": [],
   "source": [
    "mp_holistic, mp_drawing = get_mp_resources()"
   ]
  },
  {
   "cell_type": "code",
   "execution_count": 6,
   "metadata": {},
   "outputs": [],
   "source": [
    "results = start_video_capture(mp_holistic, mp_drawing)"
   ]
  },
  {
   "cell_type": "code",
   "execution_count": 8,
   "metadata": {},
   "outputs": [],
   "source": [
    "results.left_hand_landmarks"
   ]
  },
  {
   "cell_type": "code",
   "execution_count": 9,
   "metadata": {},
   "outputs": [
    {
     "data": {
      "text/plain": [
       "{'left_hand': array([0., 0., 0., 0., 0., 0., 0., 0., 0., 0., 0., 0., 0., 0., 0., 0., 0.,\n",
       "        0., 0., 0., 0., 0., 0., 0., 0., 0., 0., 0., 0., 0., 0., 0., 0., 0.,\n",
       "        0., 0., 0., 0., 0., 0., 0., 0., 0., 0., 0., 0., 0., 0., 0., 0., 0.,\n",
       "        0., 0., 0., 0., 0., 0., 0., 0., 0., 0., 0., 0.]),\n",
       " 'right_hand': array([0., 0., 0., 0., 0., 0., 0., 0., 0., 0., 0., 0., 0., 0., 0., 0., 0.,\n",
       "        0., 0., 0., 0., 0., 0., 0., 0., 0., 0., 0., 0., 0., 0., 0., 0., 0.,\n",
       "        0., 0., 0., 0., 0., 0., 0., 0., 0., 0., 0., 0., 0., 0., 0., 0., 0.,\n",
       "        0., 0., 0., 0., 0., 0., 0., 0., 0., 0., 0., 0.]),\n",
       " 'face': array([ 0.63082027,  0.74077463, -0.039979  , ...,  0.69903386,\n",
       "         0.60451537,  0.03364597]),\n",
       " 'pose': array([ 6.42977417e-01,  6.89448953e-01, -1.24052072e+00,  9.98818338e-01,\n",
       "         6.66216850e-01,  6.30880117e-01, -1.15583956e+00,  9.98616695e-01,\n",
       "         6.88420177e-01,  6.34688258e-01, -1.15627396e+00,  9.98127580e-01,\n",
       "         7.10636735e-01,  6.40037298e-01, -1.15670347e+00,  9.98286545e-01,\n",
       "         6.09685600e-01,  6.25434101e-01, -1.17606735e+00,  9.98849213e-01,\n",
       "         5.91969252e-01,  6.26804292e-01, -1.17570519e+00,  9.98749971e-01,\n",
       "         5.74778020e-01,  6.31299019e-01, -1.17641175e+00,  9.99069691e-01,\n",
       "         7.46252954e-01,  6.94340050e-01, -5.81854224e-01,  9.98083472e-01,\n",
       "         5.35133004e-01,  6.96004212e-01, -6.38285220e-01,  9.99379277e-01,\n",
       "         6.87419057e-01,  7.82338977e-01, -1.03760099e+00,  9.97564971e-01,\n",
       "         6.07417285e-01,  7.73717284e-01, -1.03806949e+00,  9.98651206e-01,\n",
       "         8.94659877e-01,  1.03822064e+00, -2.35793158e-01,  9.20750856e-01,\n",
       "         4.03664529e-01,  1.05795026e+00, -4.32539463e-01,  9.44716036e-01,\n",
       "         1.15102494e+00,  1.29562926e+00, -8.14578176e-01,  4.87923265e-01,\n",
       "         2.77831435e-01,  1.52238882e+00, -7.23639727e-01,  5.49418807e-01,\n",
       "         1.03978837e+00,  1.20204794e+00, -1.58800459e+00,  5.02831101e-01,\n",
       "         3.73239905e-01,  1.73653591e+00, -1.42399812e+00,  4.73146617e-01,\n",
       "         1.04665279e+00,  1.20451665e+00, -1.79308534e+00,  4.39734608e-01,\n",
       "         3.63311470e-01,  1.83593321e+00, -1.56572223e+00,  4.70760256e-01,\n",
       "         9.81318653e-01,  1.16374409e+00, -1.57953215e+00,  4.73352492e-01,\n",
       "         4.04419601e-01,  1.78742254e+00, -1.68308985e+00,  5.15459180e-01,\n",
       "         9.85814393e-01,  1.17589629e+00, -1.61784434e+00,  4.56542522e-01,\n",
       "         4.11521375e-01,  1.75295448e+00, -1.40683806e+00,  4.96074826e-01,\n",
       "         8.15431118e-01,  2.00777769e+00, -3.70836146e-02,  2.61187833e-03,\n",
       "         4.62926239e-01,  1.99438727e+00,  4.38309498e-02,  2.42289435e-03,\n",
       "         8.18917930e-01,  2.79365540e+00, -2.61472225e-01,  5.76573657e-03,\n",
       "         4.97895807e-01,  2.78478980e+00, -3.99525732e-01,  3.16457148e-03,\n",
       "         8.46744835e-01,  3.49802756e+00,  2.86432922e-01,  2.05795644e-04,\n",
       "         5.15409112e-01,  3.50336671e+00, -1.27834097e-01,  1.06614607e-04,\n",
       "         8.53135228e-01,  3.60134196e+00,  2.96419829e-01,  1.49442174e-04,\n",
       "         5.13193250e-01,  3.61746144e+00, -1.31202251e-01,  1.20238314e-04,\n",
       "         8.01234365e-01,  3.71916914e+00, -4.54796225e-01,  4.84110060e-04,\n",
       "         5.71245730e-01,  3.71543956e+00, -9.68180776e-01,  5.07220509e-04])}"
      ]
     },
     "execution_count": 9,
     "metadata": {},
     "output_type": "execute_result"
    }
   ],
   "source": [
    "landmarks_data = {\n",
    "    \"left_hand\": np.array(\n",
    "        [\n",
    "            [res.x, res.y, res.z]\n",
    "            for res in results.left_hand_landmarks.landmark\n",
    "        ]).flatten()\n",
    "        if results.left_hand_landmarks\n",
    "        else np.zeros(21*3),\n",
    "\n",
    "    \"right_hand\": np.array(\n",
    "        [\n",
    "            [res.x, res.y, res.z]\n",
    "            for res in results.right_hand_landmarks.landmark\n",
    "        ]).flatten()\n",
    "        if results.right_hand_landmarks\n",
    "        else np.zeros(21*3),\n",
    "\n",
    "    \"face\": np.array(\n",
    "        [\n",
    "            [res.x, res.y, res.z]\n",
    "            for res in results.face_landmarks.landmark\n",
    "        ]).flatten()\n",
    "        if results.face_landmarks\n",
    "        else np.zeros(468*3),\n",
    "\n",
    "    \"pose\": np.array(\n",
    "        [\n",
    "            [res.x, res.y, res.z, res.visibility]\n",
    "            for res in results.pose_landmarks.landmark\n",
    "        ]).flatten()\n",
    "        if results.pose_landmarks\n",
    "        else np.zeros(33*4)\n",
    "}\n",
    "landmarks_data"
   ]
  },
  {
   "cell_type": "code",
   "execution_count": 10,
   "metadata": {},
   "outputs": [],
   "source": [
    "values = np.concatenate([\n",
    "    landmarks_data[\"pose\"],\n",
    "    landmarks_data[\"face\"],\n",
    "    landmarks_data[\"left_hand\"],\n",
    "    landmarks_data[\"right_hand\"],\n",
    "])"
   ]
  },
  {
   "cell_type": "code",
   "execution_count": 34,
   "metadata": {},
   "outputs": [
    {
     "data": {
      "text/plain": [
       "(1662,)"
      ]
     },
     "execution_count": 34,
     "metadata": {},
     "output_type": "execute_result"
    }
   ],
   "source": [
    "values.shape"
   ]
  },
  {
   "cell_type": "code",
   "execution_count": 35,
   "metadata": {},
   "outputs": [
    {
     "data": {
      "text/plain": [
       "array([ 0.3460874 ,  0.54332447, -0.93187553,  0.99998748,  0.37322509,\n",
       "        0.44570264, -0.86297452,  0.99997109,  0.39862913,  0.43676513])"
      ]
     },
     "execution_count": 35,
     "metadata": {},
     "output_type": "execute_result"
    }
   ],
   "source": [
    "values[:10]"
   ]
  },
  {
   "cell_type": "code",
   "execution_count": null,
   "metadata": {},
   "outputs": [],
   "source": []
  }
 ],
 "metadata": {
  "kernelspec": {
   "display_name": "Python 3 (ipykernel)",
   "language": "python",
   "name": "python3"
  },
  "language_info": {
   "codemirror_mode": {
    "name": "ipython",
    "version": 3
   },
   "file_extension": ".py",
   "mimetype": "text/x-python",
   "name": "python",
   "nbconvert_exporter": "python",
   "pygments_lexer": "ipython3",
   "version": "3.8.16"
  },
  "vscode": {
   "interpreter": {
    "hash": "0ef263637fcb11b044004cae920088f8332c7b071379bb74eca09b0fa864d400"
   }
  }
 },
 "nbformat": 4,
 "nbformat_minor": 2
}
