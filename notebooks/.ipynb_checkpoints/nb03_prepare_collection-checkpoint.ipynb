{
 "cells": [
  {
   "cell_type": "markdown",
   "metadata": {},
   "source": [
    "# Importaciones"
   ]
  },
  {
   "cell_type": "code",
   "execution_count": 2,
   "metadata": {},
   "outputs": [],
   "source": [
    "import os\n",
    "from pathlib import Path"
   ]
  },
  {
   "cell_type": "markdown",
   "metadata": {},
   "source": [
    "# Preparar directorios para la colección"
   ]
  },
  {
   "cell_type": "markdown",
   "metadata": {},
   "source": [
    "## Configuración"
   ]
  },
  {
   "cell_type": "code",
   "execution_count": 5,
   "metadata": {},
   "outputs": [],
   "source": [
    "DATA_PATH = Path(\"../data/\").joinpath(\"raw\") # Directorio para exportar\n",
    "ABC = 'ABCDEFGHIJKLMNOPQRSTUVWXYZ'            # Letras a identificar\n",
    "EXPRESSIONS = ('hola', 'gracias', 'iloveyou')  # Expresiones a identificar\n",
    "N_SEQ = 50                                    # Numero de secuencias\n",
    "SEQ_LEN = 30                                  # Longitud de la secuencia"
   ]
  },
  {
   "cell_type": "markdown",
   "metadata": {},
   "source": [
    "Por ahora, se creara exclusivamente los directorios de expresiones, para hacer la demostración basica"
   ]
  },
  {
   "cell_type": "code",
   "execution_count": 6,
   "metadata": {},
   "outputs": [],
   "source": [
    "def create_directories(*resources):\n",
    "    for resource in resources:\n",
    "        for sequence in range(N_SEQ):\n",
    "            try:\n",
    "                DATA_PATH.joinpath(f\"{resource}/{sequence}\").mkdir(parents=True)\n",
    "            except:\n",
    "                print(f\"No se pudo crear el directorio {resource}/{sequence}\")\n"
   ]
  },
  {
   "cell_type": "code",
   "execution_count": 7,
   "metadata": {},
   "outputs": [
    {
     "name": "stdout",
     "output_type": "stream",
     "text": [
      "No se pudo crear el directorio hola/0\n",
      "No se pudo crear el directorio hola/1\n",
      "No se pudo crear el directorio hola/2\n",
      "No se pudo crear el directorio hola/3\n",
      "No se pudo crear el directorio hola/4\n",
      "No se pudo crear el directorio hola/5\n",
      "No se pudo crear el directorio hola/6\n",
      "No se pudo crear el directorio hola/7\n",
      "No se pudo crear el directorio hola/8\n",
      "No se pudo crear el directorio hola/9\n",
      "No se pudo crear el directorio hola/10\n",
      "No se pudo crear el directorio hola/11\n",
      "No se pudo crear el directorio hola/12\n",
      "No se pudo crear el directorio hola/13\n",
      "No se pudo crear el directorio hola/14\n",
      "No se pudo crear el directorio hola/15\n",
      "No se pudo crear el directorio hola/16\n",
      "No se pudo crear el directorio hola/17\n",
      "No se pudo crear el directorio hola/18\n",
      "No se pudo crear el directorio hola/19\n",
      "No se pudo crear el directorio hola/20\n",
      "No se pudo crear el directorio hola/21\n",
      "No se pudo crear el directorio hola/22\n",
      "No se pudo crear el directorio hola/23\n",
      "No se pudo crear el directorio hola/24\n",
      "No se pudo crear el directorio hola/25\n",
      "No se pudo crear el directorio hola/26\n",
      "No se pudo crear el directorio hola/27\n",
      "No se pudo crear el directorio hola/28\n",
      "No se pudo crear el directorio hola/29\n",
      "No se pudo crear el directorio hola/30\n",
      "No se pudo crear el directorio hola/31\n",
      "No se pudo crear el directorio hola/32\n",
      "No se pudo crear el directorio hola/33\n",
      "No se pudo crear el directorio hola/34\n",
      "No se pudo crear el directorio hola/35\n",
      "No se pudo crear el directorio hola/36\n",
      "No se pudo crear el directorio hola/37\n",
      "No se pudo crear el directorio hola/38\n",
      "No se pudo crear el directorio hola/39\n",
      "No se pudo crear el directorio hola/40\n",
      "No se pudo crear el directorio hola/41\n",
      "No se pudo crear el directorio hola/42\n",
      "No se pudo crear el directorio hola/43\n",
      "No se pudo crear el directorio hola/44\n",
      "No se pudo crear el directorio hola/45\n",
      "No se pudo crear el directorio hola/46\n",
      "No se pudo crear el directorio hola/47\n",
      "No se pudo crear el directorio hola/48\n",
      "No se pudo crear el directorio hola/49\n",
      "No se pudo crear el directorio gracias/0\n",
      "No se pudo crear el directorio gracias/1\n",
      "No se pudo crear el directorio gracias/2\n",
      "No se pudo crear el directorio gracias/3\n",
      "No se pudo crear el directorio gracias/4\n",
      "No se pudo crear el directorio gracias/5\n",
      "No se pudo crear el directorio gracias/6\n",
      "No se pudo crear el directorio gracias/7\n",
      "No se pudo crear el directorio gracias/8\n",
      "No se pudo crear el directorio gracias/9\n",
      "No se pudo crear el directorio gracias/10\n",
      "No se pudo crear el directorio gracias/11\n",
      "No se pudo crear el directorio gracias/12\n",
      "No se pudo crear el directorio gracias/13\n",
      "No se pudo crear el directorio gracias/14\n",
      "No se pudo crear el directorio gracias/15\n",
      "No se pudo crear el directorio gracias/16\n",
      "No se pudo crear el directorio gracias/17\n",
      "No se pudo crear el directorio gracias/18\n",
      "No se pudo crear el directorio gracias/19\n",
      "No se pudo crear el directorio gracias/20\n",
      "No se pudo crear el directorio gracias/21\n",
      "No se pudo crear el directorio gracias/22\n",
      "No se pudo crear el directorio gracias/23\n",
      "No se pudo crear el directorio gracias/24\n",
      "No se pudo crear el directorio gracias/25\n",
      "No se pudo crear el directorio gracias/26\n",
      "No se pudo crear el directorio gracias/27\n",
      "No se pudo crear el directorio gracias/28\n",
      "No se pudo crear el directorio gracias/29\n",
      "No se pudo crear el directorio gracias/30\n",
      "No se pudo crear el directorio gracias/31\n",
      "No se pudo crear el directorio gracias/32\n",
      "No se pudo crear el directorio gracias/33\n",
      "No se pudo crear el directorio gracias/34\n",
      "No se pudo crear el directorio gracias/35\n",
      "No se pudo crear el directorio gracias/36\n",
      "No se pudo crear el directorio gracias/37\n",
      "No se pudo crear el directorio gracias/38\n",
      "No se pudo crear el directorio gracias/39\n",
      "No se pudo crear el directorio gracias/40\n",
      "No se pudo crear el directorio gracias/41\n",
      "No se pudo crear el directorio gracias/42\n",
      "No se pudo crear el directorio gracias/43\n",
      "No se pudo crear el directorio gracias/44\n",
      "No se pudo crear el directorio gracias/45\n",
      "No se pudo crear el directorio gracias/46\n",
      "No se pudo crear el directorio gracias/47\n",
      "No se pudo crear el directorio gracias/48\n",
      "No se pudo crear el directorio gracias/49\n",
      "No se pudo crear el directorio iloveyou/0\n",
      "No se pudo crear el directorio iloveyou/1\n",
      "No se pudo crear el directorio iloveyou/2\n",
      "No se pudo crear el directorio iloveyou/3\n",
      "No se pudo crear el directorio iloveyou/4\n",
      "No se pudo crear el directorio iloveyou/5\n",
      "No se pudo crear el directorio iloveyou/6\n",
      "No se pudo crear el directorio iloveyou/7\n",
      "No se pudo crear el directorio iloveyou/8\n",
      "No se pudo crear el directorio iloveyou/9\n",
      "No se pudo crear el directorio iloveyou/10\n",
      "No se pudo crear el directorio iloveyou/11\n",
      "No se pudo crear el directorio iloveyou/12\n",
      "No se pudo crear el directorio iloveyou/13\n",
      "No se pudo crear el directorio iloveyou/14\n",
      "No se pudo crear el directorio iloveyou/15\n",
      "No se pudo crear el directorio iloveyou/16\n",
      "No se pudo crear el directorio iloveyou/17\n",
      "No se pudo crear el directorio iloveyou/18\n",
      "No se pudo crear el directorio iloveyou/19\n",
      "No se pudo crear el directorio iloveyou/20\n",
      "No se pudo crear el directorio iloveyou/21\n",
      "No se pudo crear el directorio iloveyou/22\n",
      "No se pudo crear el directorio iloveyou/23\n",
      "No se pudo crear el directorio iloveyou/24\n",
      "No se pudo crear el directorio iloveyou/25\n",
      "No se pudo crear el directorio iloveyou/26\n",
      "No se pudo crear el directorio iloveyou/27\n",
      "No se pudo crear el directorio iloveyou/28\n",
      "No se pudo crear el directorio iloveyou/29\n",
      "No se pudo crear el directorio iloveyou/30\n",
      "No se pudo crear el directorio iloveyou/31\n",
      "No se pudo crear el directorio iloveyou/32\n",
      "No se pudo crear el directorio iloveyou/33\n",
      "No se pudo crear el directorio iloveyou/34\n",
      "No se pudo crear el directorio iloveyou/35\n",
      "No se pudo crear el directorio iloveyou/36\n",
      "No se pudo crear el directorio iloveyou/37\n",
      "No se pudo crear el directorio iloveyou/38\n",
      "No se pudo crear el directorio iloveyou/39\n",
      "No se pudo crear el directorio iloveyou/40\n",
      "No se pudo crear el directorio iloveyou/41\n",
      "No se pudo crear el directorio iloveyou/42\n",
      "No se pudo crear el directorio iloveyou/43\n",
      "No se pudo crear el directorio iloveyou/44\n",
      "No se pudo crear el directorio iloveyou/45\n",
      "No se pudo crear el directorio iloveyou/46\n",
      "No se pudo crear el directorio iloveyou/47\n",
      "No se pudo crear el directorio iloveyou/48\n",
      "No se pudo crear el directorio iloveyou/49\n"
     ]
    }
   ],
   "source": [
    "create_directories(*EXPRESSIONS)"
   ]
  }
 ],
 "metadata": {
  "kernelspec": {
   "display_name": "Python 3 (ipykernel)",
   "language": "python",
   "name": "python3"
  },
  "language_info": {
   "codemirror_mode": {
    "name": "ipython",
    "version": 3
   },
   "file_extension": ".py",
   "mimetype": "text/x-python",
   "name": "python",
   "nbconvert_exporter": "python",
   "pygments_lexer": "ipython3",
   "version": "3.8.16"
  },
  "vscode": {
   "interpreter": {
    "hash": "0ef263637fcb11b044004cae920088f8332c7b071379bb74eca09b0fa864d400"
   }
  }
 },
 "nbformat": 4,
 "nbformat_minor": 2
}
