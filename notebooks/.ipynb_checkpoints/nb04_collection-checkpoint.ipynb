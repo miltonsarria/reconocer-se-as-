{
 "cells": [
  {
   "cell_type": "markdown",
   "metadata": {},
   "source": [
    "# Importaciones"
   ]
  },
  {
   "cell_type": "code",
   "execution_count": 3,
   "metadata": {},
   "outputs": [],
   "source": [
    "import os\n",
    "import time\n",
    "\n",
    "import cv2\n",
    "import numpy as np\n",
    "import mediapipe as mp\n",
    "from matplotlib import pyplot as plt"
   ]
  },
  {
   "cell_type": "code",
   "execution_count": 4,
   "metadata": {},
   "outputs": [],
   "source": [
    "from ipynb.fs.full.functions import get_mp_resources\n",
    "from ipynb.fs.full.functions import extract_keypoints\n",
    "from ipynb.fs.full.functions import mediapipe_detection\n",
    "from ipynb.fs.full.functions import draw_styled_landmarks\n",
    "from ipynb.fs.full.nb03_prepare_collection import N_SEQ, SEQ_LEN\n",
    "from ipynb.fs.full.nb03_prepare_collection import DATA_PATH, ABC, EXPRESSIONS\n",
    "# from ipynb.fs.full.functions import start_video_capture"
   ]
  },
  {
   "cell_type": "markdown",
   "metadata": {},
   "source": [
    "# Recolección de puntos claves para el entrenamiento y pruebas"
   ]
  },
  {
   "cell_type": "code",
   "execution_count": 5,
   "metadata": {},
   "outputs": [],
   "source": [
    "def start_video_collection(mp_holistic, mp_drawing, *resources):\n",
    "    captura = cv2.VideoCapture(0)\n",
    "\n",
    "    # Acceso/configuración al modulo de mediapipe\n",
    "    with mp_holistic.Holistic(min_detection_confidence=0.5, min_tracking_confidence=0.5) as holistic:\n",
    "\n",
    "\n",
    "        # Ciclo para recorrer todos los recursos (letras y/o expresiones)\n",
    "        for resource in resources:\n",
    "            # Ciclo para recorrer todas las secuencias a recolectar\n",
    "            for sequence in range(N_SEQ):\n",
    "                # Ciclo para recoletar secuencias\n",
    "                for n_frame in range(SEQ_LEN):\n",
    "\n",
    "                    # Lectura via camara\n",
    "                    _, frame = captura.read()\n",
    "\n",
    "                    # Realizar detecciones\n",
    "                    image, results = mediapipe_detection(frame, holistic)\n",
    "\n",
    "                    # Dibujar landmarks\n",
    "                    draw_styled_landmarks(image, results, mp_holistic, mp_drawing)\n",
    "\n",
    "                    image = cv2.flip(image, 1)\n",
    "\n",
    "                    cv2.putText(\n",
    "                        image, f'Recolectando frames para la accion {resource} | Video numero {sequence}',\n",
    "                        (15, 12), cv2.FONT_HERSHEY_SIMPLEX, 0.5, (0, 0, 255), 1, cv2.LINE_AA\n",
    "                    )\n",
    "\n",
    "                    # Tiempo de espera para preparar\n",
    "                    if n_frame == 0:\n",
    "                        cv2.putText(\n",
    "                            image, \"COMENZANDO RECOLECCIÓN\", (120, 200),\n",
    "                            cv2.FONT_HERSHEY_SIMPLEX, 0.5, (0, 255, 0), 1, cv2.LINE_AA\n",
    "                        )\n",
    "                        cv2.imshow('OpenCV', image)\n",
    "                        cv2.waitKey(2000)\n",
    "                    else:\n",
    "                        # Mostrar en pantalla\n",
    "                        cv2.imshow('OpenCV', image)\n",
    "\n",
    "                    # Exportar puntos claves\n",
    "                    _, keypoints = extract_keypoints(results)\n",
    "                    npy_path = DATA_PATH.joinpath(f'{resource}/{sequence}/{n_frame}')\n",
    "                    np.save(npy_path, keypoints)\n",
    "\n",
    "\n",
    "                    # Salida\n",
    "                    if cv2.waitKey(10) & 0xFF == ord('q'):\n",
    "                        break\n",
    "        captura.release()\n",
    "        cv2.destroyAllWindows()"
   ]
  },
  {
   "cell_type": "code",
   "execution_count": 6,
   "metadata": {},
   "outputs": [],
   "source": [
    "mp_holistic, mp_drawing = get_mp_resources()"
   ]
  },
  {
   "cell_type": "code",
   "execution_count": 7,
   "metadata": {},
   "outputs": [
    {
     "name": "stderr",
     "output_type": "stream",
     "text": [
      "INFO: Created TensorFlow Lite XNNPACK delegate for CPU.\n"
     ]
    }
   ],
   "source": [
    "start_video_collection(mp_holistic, mp_drawing, *EXPRESSIONS)"
   ]
  },
  {
   "cell_type": "code",
   "execution_count": null,
   "metadata": {},
   "outputs": [],
   "source": []
  }
 ],
 "metadata": {
  "kernelspec": {
   "display_name": "Python 3 (ipykernel)",
   "language": "python",
   "name": "python3"
  },
  "language_info": {
   "codemirror_mode": {
    "name": "ipython",
    "version": 3
   },
   "file_extension": ".py",
   "mimetype": "text/x-python",
   "name": "python",
   "nbconvert_exporter": "python",
   "pygments_lexer": "ipython3",
   "version": "3.9.12"
  },
  "vscode": {
   "interpreter": {
    "hash": "0ef263637fcb11b044004cae920088f8332c7b071379bb74eca09b0fa864d400"
   }
  }
 },
 "nbformat": 4,
 "nbformat_minor": 2
}
